{
 "cells": [
  {
   "cell_type": "code",
   "execution_count": 2,
   "id": "54089e07",
   "metadata": {},
   "outputs": [
    {
     "name": "stdout",
     "output_type": "stream",
     "text": [
      "Enter the radius: 3\n",
      "The radius of a circle is: 28\n"
     ]
    }
   ],
   "source": [
    "r=int(input(\"Enter the radius: \"))\n",
    "a=int(3.14*r*r)\n",
    "print(\"The radius of a circle is:\", a)"
   ]
  },
  {
   "cell_type": "code",
   "execution_count": null,
   "id": "0daede75",
   "metadata": {},
   "outputs": [],
   "source": []
  }
 ],
 "metadata": {
  "kernelspec": {
   "display_name": "Python 3 (ipykernel)",
   "language": "python",
   "name": "python3"
  },
  "language_info": {
   "codemirror_mode": {
    "name": "ipython",
    "version": 3
   },
   "file_extension": ".py",
   "mimetype": "text/x-python",
   "name": "python",
   "nbconvert_exporter": "python",
   "pygments_lexer": "ipython3",
   "version": "3.9.7"
  }
 },
 "nbformat": 4,
 "nbformat_minor": 5
}
